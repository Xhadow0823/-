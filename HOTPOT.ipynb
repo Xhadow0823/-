{
 "cells": [
  {
   "cell_type": "code",
   "execution_count": 1,
   "metadata": {},
   "outputs": [],
   "source": [
    "targetList = [\n",
    "    \"https://inline.app/api/booking-capacities?companyId=-LjL6vW09dVGOC0tGamg%3Ainline-live-1&branchId=-LlAGyrXGAF-R-q558wu\",\n",
    "    \"https://inline.app/api/booking-capacities?companyId=-LjL6vW09dVGOC0tGamg%3Ainline-live-1&branchId=-LlL8dU9Du-kN9bSB7So\",\n",
    "    \"https://inline.app/api/booking-capacities?companyId=-LjL6vW09dVGOC0tGamg%3Ainline-live-1&branchId=-LlUxDLx-XebetRRsqqZ\",\n",
    "    \"https://inline.app/api/booking-capacities?companyId=-LjL6vW09dVGOC0tGamg%3Ainline-live-1&branchId=-LlUxdHKhIeNdCnSEyFV\",\n",
    "    \n",
    "    \"https://inline.app/api/booking-capacities?companyId=-LjL6vW09dVGOC0tGamg%3Ainline-live-1&branchId=-LlUxxpHm3s4yAjOqRrD\",\n",
    "    \"https://inline.app/api/booking-capacities?companyId=-LjL6vW09dVGOC0tGamg%3Ainline-live-1&branchId=-LlUz82oj3zmrs7BMl0T\",\n",
    "]\n",
    "targetNames = [\n",
    "    \"公館\",\n",
    "    \"武昌\",\n",
    "    \"昆明\",\n",
    "    \"中山\",\n",
    "    \"漢中\",\n",
    "    \"遠百\"\n",
    "]"
   ]
  },
  {
   "cell_type": "code",
   "execution_count": 2,
   "metadata": {
    "scrolled": false
   },
   "outputs": [
    {
     "name": "stdout",
     "output_type": "stream",
     "text": [
      "Collecting requests2\n",
      "  Downloading requests2-2.16.0-py2.py3-none-any.whl (85 kB)\n",
      "\u001b[K     |████████████████████████████████| 85 kB 400 kB/s eta 0:00:011\n",
      "\u001b[?25hCollecting idna<2.6,>=2.5\n",
      "  Downloading idna-2.5-py2.py3-none-any.whl (55 kB)\n",
      "\u001b[K     |████████████████████████████████| 55 kB 1.2 MB/s eta 0:00:01\n",
      "\u001b[?25hRequirement already satisfied: certifi>=2017.4.17 in /Users/eric/opt/anaconda3/lib/python3.8/site-packages (from requests2) (2020.6.20)\n",
      "Requirement already satisfied: chardet<3.1.0,>=3.0.2 in /Users/eric/opt/anaconda3/lib/python3.8/site-packages (from requests2) (3.0.4)\n",
      "Collecting urllib3<1.22,>=1.21.1\n",
      "  Downloading urllib3-1.21.1-py2.py3-none-any.whl (131 kB)\n",
      "\u001b[K     |████████████████████████████████| 131 kB 1.6 MB/s eta 0:00:01\n",
      "\u001b[?25hInstalling collected packages: idna, urllib3, requests2\n",
      "  Attempting uninstall: idna\n",
      "    Found existing installation: idna 2.10\n",
      "    Uninstalling idna-2.10:\n",
      "      Successfully uninstalled idna-2.10\n",
      "  Attempting uninstall: urllib3\n",
      "    Found existing installation: urllib3 1.25.11\n",
      "    Uninstalling urllib3-1.25.11:\n",
      "      Successfully uninstalled urllib3-1.25.11\n",
      "Successfully installed idna-2.5 requests2-2.16.0 urllib3-1.21.1\n"
     ]
    }
   ],
   "source": [
    "!pip3 install requests2"
   ]
  },
  {
   "cell_type": "code",
   "execution_count": 3,
   "metadata": {},
   "outputs": [],
   "source": [
    "import requests"
   ]
  },
  {
   "cell_type": "code",
   "execution_count": 28,
   "metadata": {
    "scrolled": true
   },
   "outputs": [
    {
     "data": {
      "text/plain": [
       "{'default': {'11:30': [3, 4, 5, 6],\n",
       "  '12:00': [3, 4, 5, 6],\n",
       "  '17:30': [5, 6],\n",
       "  '18:00': [2, 3, 4]},\n",
       " '-LlVnUP87E8jMU557jq6': {'11:30': [], '12:00': [4], '17:30': [], '18:00': []},\n",
       " '-LlVpgwMwTpCLsiTPZHG': {'11:30': [], '12:00': [], '17:30': [], '18:00': [2]},\n",
       " '-LlVqBjQKiHujJcBih9M': {'11:30': [3, 4, 5, 6],\n",
       "  '12:00': [3, 4, 5, 6],\n",
       "  '17:30': [5, 6],\n",
       "  '18:00': [3, 4]},\n",
       " '-LlVq_smqvmWYftTIWlB': {'11:30': [], '12:00': [], '17:30': [], '18:00': []},\n",
       " '-LlVqxAg-yipK9W0aRGz': {'11:30': [], '12:00': [], '17:30': [], '18:00': []}}"
      ]
     },
     "execution_count": 28,
     "metadata": {},
     "output_type": "execute_result"
    }
   ],
   "source": [
    "headers = {\"user-agent\": \"Mozilla/5.0 (Macintosh; Intel Mac OS X 11_0_1) AppleWebKit/537.36 (KHTML, like Gecko) Chrome/87.0.4280.88 Safari/537.36\"}\n",
    "res = requests.get(targetList[1], headers=headers)\n",
    "get1231(res.json())"
   ]
  },
  {
   "cell_type": "code",
   "execution_count": 45,
   "metadata": {},
   "outputs": [],
   "source": [
    "def get1231(data):\n",
    "#     for key, value in data.items():\n",
    "#         data[key] = data[key]['2020-12-31']\n",
    "    return data['default']['2020-12-31']"
   ]
  },
  {
   "cell_type": "code",
   "execution_count": 38,
   "metadata": {},
   "outputs": [],
   "source": [
    "def getBranchJSON(url):\n",
    "    headers = {\"user-agent\": \"Mozilla/5.0 (Macintosh; Intel Mac OS X 11_0_1) AppleWebKit/537.36 (KHTML, like Gecko) Chrome/87.0.4280.88 Safari/537.36\"}\n",
    "    return requests.get(url, headers=headers).json()"
   ]
  },
  {
   "cell_type": "code",
   "execution_count": 41,
   "metadata": {},
   "outputs": [],
   "source": [
    "def getAllBranches():\n",
    "    tmp = []\n",
    "    for target in targetList:\n",
    "        tmp.append(get1231(getBranchJSON(target)))\n",
    "    return tmp"
   ]
  },
  {
   "cell_type": "code",
   "execution_count": 46,
   "metadata": {},
   "outputs": [
    {
     "data": {
      "text/plain": [
       "[{},\n",
       " {'11:30': [3, 4, 5, 6],\n",
       "  '12:00': [3, 4, 5, 6],\n",
       "  '17:30': [5, 6],\n",
       "  '18:00': [2, 3, 4]},\n",
       " {},\n",
       " {'11:30': [5, 6],\n",
       "  '12:00': [5, 6],\n",
       "  '12:30': [5, 6],\n",
       "  '13:30': [],\n",
       "  '14:00': [3, 4, 5, 6],\n",
       "  '14:30': [5, 6],\n",
       "  '15:30': [],\n",
       "  '17:00': [3, 4, 5, 6],\n",
       "  '17:30': [],\n",
       "  '18:00': [],\n",
       "  '18:30': [],\n",
       "  '19:30': [],\n",
       "  '20:00': [],\n",
       "  '20:30': [],\n",
       "  '22:30': [],\n",
       "  '23:00': [],\n",
       "  '23:30': [],\n",
       "  '24:00': []},\n",
       " {'11:30': [4],\n",
       "  '12:00': [4],\n",
       "  '12:30': [],\n",
       "  '13:30': [],\n",
       "  '13:45': [4],\n",
       "  '14:00': [3, 4, 6, 7, 8],\n",
       "  '14:15': [4],\n",
       "  '14:30': [5, 6],\n",
       "  '14:45': [],\n",
       "  '15:30': [],\n",
       "  '16:00': [6],\n",
       "  '16:15': [],\n",
       "  '16:30': [5, 6],\n",
       "  '17:00': [4],\n",
       "  '17:30': [],\n",
       "  '18:00': [],\n",
       "  '18:15': [],\n",
       "  '18:30': [],\n",
       "  '18:45': [],\n",
       "  '19:15': [],\n",
       "  '19:45': [],\n",
       "  '20:15': [],\n",
       "  '20:30': [5, 6],\n",
       "  '20:45': [],\n",
       "  '21:00': []},\n",
       " {}]"
      ]
     },
     "execution_count": 46,
     "metadata": {},
     "output_type": "execute_result"
    }
   ],
   "source": [
    "getAllBranches()"
   ]
  },
  {
   "cell_type": "code",
   "execution_count": null,
   "metadata": {},
   "outputs": [],
   "source": [
    "while True:\n",
    "    try:\n",
    "        getAllBranches()\n",
    "    except KeyboardInterrupt:\n",
    "        print(\"STOP!!\")"
   ]
  }
 ],
 "metadata": {
  "kernelspec": {
   "display_name": "Python 3",
   "language": "python",
   "name": "python3"
  },
  "language_info": {
   "codemirror_mode": {
    "name": "ipython",
    "version": 3
   },
   "file_extension": ".py",
   "mimetype": "text/x-python",
   "name": "python",
   "nbconvert_exporter": "python",
   "pygments_lexer": "ipython3",
   "version": "3.8.5"
  }
 },
 "nbformat": 4,
 "nbformat_minor": 4
}